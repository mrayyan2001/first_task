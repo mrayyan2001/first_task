{
  "cells": [
    {
      "cell_type": "markdown",
      "metadata": {
        "id": "9veqgG-LVKd3"
      },
      "source": [
        "#About Dataset\n",
        "salaries dataset generally provides information about the employees of an organization in relation to their compensation. It typically includes details such as how much each employee is paid (their salary), their job titles, the departments they work in, and possibly additional information like their level of experience, education, and employment history within the organization."
      ]
    },
    {
      "cell_type": "markdown",
      "metadata": {
        "id": "cZwHdpBfVzOh"
      },
      "source": [
        "# Features\n",
        "- 'Id'\n",
        "- 'EmployeeName'\n",
        "- 'JobTitle'\n",
        "- 'BasePay'\n",
        "- 'OvertimePay'\n",
        "- 'OtherPay'\n",
        "- 'Benefits'\n",
        "- 'TotalPay' -> salary\n",
        "- 'TotalPayBenefits'\n",
        "- 'Year'\n",
        "- 'Notes'\n",
        "- 'Agency'\n",
        "- 'Status'\n"
      ]
    },
    {
      "cell_type": "markdown",
      "metadata": {
        "id": "X1VJposzVrSF"
      },
      "source": [
        "# Tasks\n",
        "\n",
        "1. **Basic Data Exploration**: Identify the number of rows and columns in the dataset, determine the data types of each column, and check for missing values in each column.\n",
        "\n",
        "2. **Descriptive Statistics**: Calculate basic statistics mean, median, mode, minimum, and maximum salary, determine the range of salaries, and find the standard deviation.\n",
        "\n",
        "3. **Data Cleaning**: Handle missing data by suitable method with explain why you use it.\n",
        "\n",
        "4. **Basic Data Visualization**: Create histograms or bar charts to visualize the distribution of salaries, and use pie charts to represent the proportion of employees in different departments.\n",
        "\n",
        "5. **Grouped Analysis**: Group the data by one or more columns and calculate summary statistics for each group, and compare the average salaries across different groups.\n",
        "\n",
        "6. **Simple Correlation Analysis**: Identify any correlation between salary and another numerical column, and plot a scatter plot to visualize the relationship.\n",
        "\n",
        "8. **Summary of Insights**: Write a brief report summarizing the findings and insights from the analyses."
      ]
    },
    {
      "cell_type": "markdown",
      "metadata": {
        "id": "8_rNdHiGUT6A"
      },
      "source": [
        "# Very Important Note\n",
        "There is no fixed or singular solution for this assignment, so if anything is not clear, please do what you understand and provide an explanation."
      ]
    },
    {
      "cell_type": "code",
      "execution_count": 54,
      "metadata": {
        "colab": {
          "base_uri": "https://localhost:8080/",
          "height": 486
        },
        "id": "KmZfk5xkXI2y",
        "outputId": "e77ffddb-f533-4bac-d15a-3ea9f42b7890"
      },
      "outputs": [
        {
          "data": {
            "text/html": [
              "<div>\n",
              "<style scoped>\n",
              "    .dataframe tbody tr th:only-of-type {\n",
              "        vertical-align: middle;\n",
              "    }\n",
              "\n",
              "    .dataframe tbody tr th {\n",
              "        vertical-align: top;\n",
              "    }\n",
              "\n",
              "    .dataframe thead th {\n",
              "        text-align: right;\n",
              "    }\n",
              "</style>\n",
              "<table border=\"1\" class=\"dataframe\">\n",
              "  <thead>\n",
              "    <tr style=\"text-align: right;\">\n",
              "      <th></th>\n",
              "      <th>Id</th>\n",
              "      <th>EmployeeName</th>\n",
              "      <th>JobTitle</th>\n",
              "      <th>BasePay</th>\n",
              "      <th>OvertimePay</th>\n",
              "      <th>OtherPay</th>\n",
              "      <th>Benefits</th>\n",
              "      <th>TotalPay</th>\n",
              "      <th>TotalPayBenefits</th>\n",
              "      <th>Year</th>\n",
              "      <th>Notes</th>\n",
              "      <th>Agency</th>\n",
              "      <th>Status</th>\n",
              "    </tr>\n",
              "  </thead>\n",
              "  <tbody>\n",
              "    <tr>\n",
              "      <th>148649</th>\n",
              "      <td>148650</td>\n",
              "      <td>Roy I Tillery</td>\n",
              "      <td>Custodian</td>\n",
              "      <td>0.0</td>\n",
              "      <td>0.0</td>\n",
              "      <td>0.00</td>\n",
              "      <td>0.0</td>\n",
              "      <td>0.00</td>\n",
              "      <td>0.00</td>\n",
              "      <td>2014</td>\n",
              "      <td>NaN</td>\n",
              "      <td>San Francisco</td>\n",
              "      <td>NaN</td>\n",
              "    </tr>\n",
              "    <tr>\n",
              "      <th>148650</th>\n",
              "      <td>148651</td>\n",
              "      <td>Not provided</td>\n",
              "      <td>Not provided</td>\n",
              "      <td>NaN</td>\n",
              "      <td>NaN</td>\n",
              "      <td>NaN</td>\n",
              "      <td>NaN</td>\n",
              "      <td>0.00</td>\n",
              "      <td>0.00</td>\n",
              "      <td>2014</td>\n",
              "      <td>NaN</td>\n",
              "      <td>San Francisco</td>\n",
              "      <td>NaN</td>\n",
              "    </tr>\n",
              "    <tr>\n",
              "      <th>148651</th>\n",
              "      <td>148652</td>\n",
              "      <td>Not provided</td>\n",
              "      <td>Not provided</td>\n",
              "      <td>NaN</td>\n",
              "      <td>NaN</td>\n",
              "      <td>NaN</td>\n",
              "      <td>NaN</td>\n",
              "      <td>0.00</td>\n",
              "      <td>0.00</td>\n",
              "      <td>2014</td>\n",
              "      <td>NaN</td>\n",
              "      <td>San Francisco</td>\n",
              "      <td>NaN</td>\n",
              "    </tr>\n",
              "    <tr>\n",
              "      <th>148652</th>\n",
              "      <td>148653</td>\n",
              "      <td>Not provided</td>\n",
              "      <td>Not provided</td>\n",
              "      <td>NaN</td>\n",
              "      <td>NaN</td>\n",
              "      <td>NaN</td>\n",
              "      <td>NaN</td>\n",
              "      <td>0.00</td>\n",
              "      <td>0.00</td>\n",
              "      <td>2014</td>\n",
              "      <td>NaN</td>\n",
              "      <td>San Francisco</td>\n",
              "      <td>NaN</td>\n",
              "    </tr>\n",
              "    <tr>\n",
              "      <th>148653</th>\n",
              "      <td>148654</td>\n",
              "      <td>Joe Lopez</td>\n",
              "      <td>Counselor, Log Cabin Ranch</td>\n",
              "      <td>0.0</td>\n",
              "      <td>0.0</td>\n",
              "      <td>-618.13</td>\n",
              "      <td>0.0</td>\n",
              "      <td>-618.13</td>\n",
              "      <td>-618.13</td>\n",
              "      <td>2014</td>\n",
              "      <td>NaN</td>\n",
              "      <td>San Francisco</td>\n",
              "      <td>NaN</td>\n",
              "    </tr>\n",
              "  </tbody>\n",
              "</table>\n",
              "</div>"
            ],
            "text/plain": [
              "            Id   EmployeeName                    JobTitle  BasePay  \\\n",
              "148649  148650  Roy I Tillery                   Custodian      0.0   \n",
              "148650  148651   Not provided                Not provided      NaN   \n",
              "148651  148652   Not provided                Not provided      NaN   \n",
              "148652  148653   Not provided                Not provided      NaN   \n",
              "148653  148654      Joe Lopez  Counselor, Log Cabin Ranch      0.0   \n",
              "\n",
              "        OvertimePay  OtherPay  Benefits  TotalPay  TotalPayBenefits  Year  \\\n",
              "148649          0.0      0.00       0.0      0.00              0.00  2014   \n",
              "148650          NaN       NaN       NaN      0.00              0.00  2014   \n",
              "148651          NaN       NaN       NaN      0.00              0.00  2014   \n",
              "148652          NaN       NaN       NaN      0.00              0.00  2014   \n",
              "148653          0.0   -618.13       0.0   -618.13           -618.13  2014   \n",
              "\n",
              "        Notes         Agency  Status  \n",
              "148649    NaN  San Francisco     NaN  \n",
              "148650    NaN  San Francisco     NaN  \n",
              "148651    NaN  San Francisco     NaN  \n",
              "148652    NaN  San Francisco     NaN  \n",
              "148653    NaN  San Francisco     NaN  "
            ]
          },
          "execution_count": 54,
          "metadata": {},
          "output_type": "execute_result"
        }
      ],
      "source": [
        "import pandas as pd\n",
        "import numpy as np\n",
        "import re\n",
        "import matplotlib.pyplot as plt\n",
        "\n",
        "# Load your dataset\n",
        "df = pd.read_csv('Salaries.csv')\n",
        "df.head() # head print the first 5\n",
        "df.tail() # tail print the last 5\n"
      ]
    },
    {
      "cell_type": "code",
      "execution_count": 55,
      "metadata": {},
      "outputs": [
        {
          "name": "stdout",
          "output_type": "stream",
          "text": [
            "The dataset contains 148654 rows and 13 columns\n",
            "And these are the columns: ['Id', 'EmployeeName', 'JobTitle', 'BasePay', 'OvertimePay', 'OtherPay', 'Benefits', 'TotalPay', 'TotalPayBenefits', 'Year', 'Notes', 'Agency', 'Status']\n",
            "There are 4 duplicated rows and all have no data: [148646, 148650, 148651, 148652]\n",
            "The average of Salary is 74768.32, and it has a standard deviation of 50517.01, and we know when the standard deviation is high, the data is more spread out from the mean, and when it's low, the data is more concentrated around the mean, and the range of salary is from -618.13 to 567595.43\n",
            "These columns have missing data: {'BasePay': 609, 'OvertimePay': 4, 'OtherPay': 4, 'Benefits': 36163, 'Notes': 148654, 'Status': 148654}\n",
            ",and these columns doesn't have any data: ['Notes', 'Status']\n",
            "and this column has the same data: ['Agency'], and it's: ['San Francisco']\n",
            "We noticed that there's a strong positive correlation between TotalPay and BasePay which means that the more the BasePay the more the TotalPay and the correlation is 0.9545\n"
          ]
        }
      ],
      "source": [
        "# Write a brief report summarizing the findings and insights from the analyses.\n",
        "print(f\"The dataset contains {df.shape[0]} rows and {df.shape[1]} columns\")\n",
        "print(f\"And these are the columns: {list(df.columns)}\")\n",
        "a = df.loc[df[df.columns.drop(\"Id\")].duplicated(keep=False)].index\n",
        "print(f\"There are {len(a)} duplicated rows and all have no data: {list(a)}\")\n",
        "print(f\"The average of Salary is {round(df[\"TotalPay\"].mean(),2)}, and it has a standard deviation of {round(df['TotalPay'].std(),2)}, and we know when the standard deviation is high, the data is more spread out from the mean, and when it's low, the data is more concentrated around the mean, and the range of salary is from {round(df['TotalPay'].min(),2)} to {round(df['TotalPay'].max(),2)}\")\n",
        "a = df.columns[df.isnull().any()]\n",
        "b = list(df[a].isnull().sum())\n",
        "c = dict(zip(a, b))\n",
        "print(f\"These columns have missing data: {c}\")\n",
        "print(\n",
        "    f\",and these columns doesn't have any data: {list(df.columns[df.isnull().all()])}\"\n",
        ")\n",
        "print(\n",
        "    f\"and this column has the same data: {list(df.columns[df.nunique() == 1])}, and it's: {list(df[df.columns[df.nunique() == 1]].iloc[0])}\"\n",
        ")\n",
        "print(\n",
        "    f\"We noticed that there's a strong positive correlation between TotalPay and BasePay which means that the more the BasePay the more the TotalPay and the correlation is {round(df['TotalPay'].corr(df['BasePay']),4)}\"\n",
        ")"
      ]
    },
    {
      "cell_type": "code",
      "execution_count": null,
      "metadata": {},
      "outputs": [],
      "source": []
    },
    {
      "cell_type": "code",
      "execution_count": 56,
      "metadata": {},
      "outputs": [
        {
          "name": "stdout",
          "output_type": "stream",
          "text": [
            "# of rows:  148654\n",
            "# of columns:  13\n",
            "(148654, 13)\n"
          ]
        }
      ],
      "source": [
        "# identify the number of rows and columns\n",
        "print(\"# of rows: \", len(df))\n",
        "print(\"# of columns: \", len(df.columns))\n",
        "# or using df.shape return a tuple with the number of rows and columns\n",
        "print(df.shape)"
      ]
    },
    {
      "cell_type": "code",
      "execution_count": 57,
      "metadata": {},
      "outputs": [
        {
          "name": "stdout",
          "output_type": "stream",
          "text": [
            "Id                    int64\n",
            "EmployeeName         object\n",
            "JobTitle             object\n",
            "BasePay             float64\n",
            "OvertimePay         float64\n",
            "OtherPay            float64\n",
            "Benefits            float64\n",
            "TotalPay            float64\n",
            "TotalPayBenefits    float64\n",
            "Year                  int64\n",
            "Notes               float64\n",
            "Agency               object\n",
            "Status              float64\n",
            "dtype: object\n"
          ]
        }
      ],
      "source": [
        "# determine the data type of each column\n",
        "print(df.dtypes)"
      ]
    },
    {
      "cell_type": "code",
      "execution_count": 58,
      "metadata": {},
      "outputs": [
        {
          "name": "stdout",
          "output_type": "stream",
          "text": [
            "Notes               148654\n",
            "Status              148654\n",
            "Benefits             36163\n",
            "BasePay                609\n",
            "OvertimePay              4\n",
            "OtherPay                 4\n",
            "Id                       0\n",
            "EmployeeName             0\n",
            "JobTitle                 0\n",
            "TotalPay                 0\n",
            "TotalPayBenefits         0\n",
            "Year                     0\n",
            "Agency                   0\n",
            "dtype: int64\n"
          ]
        }
      ],
      "source": [
        "# check for missing values\n",
        "print(df.isnull().sum().sort_values(ascending=False))"
      ]
    },
    {
      "cell_type": "code",
      "execution_count": 59,
      "metadata": {},
      "outputs": [
        {
          "name": "stdout",
          "output_type": "stream",
          "text": [
            "Mode\t\t0.0\n",
            "mean       74768.321972\n",
            "median     71426.610000\n",
            "std        50517.005274\n",
            "min         -618.130000\n",
            "max       567595.430000\n",
            "Name: TotalPay, dtype: float64\n"
          ]
        }
      ],
      "source": [
        "# calculate the basic statistics for the numeric salary\n",
        "print(\"Mode\\t\\t\" + str(df[\"TotalPay\"].mode()[0]))\n",
        "print(df[\"TotalPay\"].agg([\"mean\", \"median\", \"std\", \"min\", \"max\"]))"
      ]
    },
    {
      "cell_type": "code",
      "execution_count": 60,
      "metadata": {},
      "outputs": [
        {
          "name": "stdout",
          "output_type": "stream",
          "text": [
            "-618.13 to 567595.43\n"
          ]
        }
      ],
      "source": [
        "# determine the range of the salary\n",
        "print(df[\"TotalPay\"].min() ,\"to\", df[\"TotalPay\"].max())"
      ]
    },
    {
      "cell_type": "code",
      "execution_count": 61,
      "metadata": {},
      "outputs": [
        {
          "name": "stdout",
          "output_type": "stream",
          "text": [
            "Standard Deviation:  50517.00527394987\n"
          ]
        }
      ],
      "source": [
        "# find standard deviation of the salary\n",
        "print(\"Standard Deviation: \",df[\"TotalPay\"].std())"
      ]
    },
    {
      "cell_type": "markdown",
      "metadata": {},
      "source": [
        "Handling Missing Data"
      ]
    },
    {
      "cell_type": "code",
      "execution_count": 62,
      "metadata": {},
      "outputs": [
        {
          "name": "stdout",
          "output_type": "stream",
          "text": [
            "<class 'pandas.core.frame.DataFrame'>\n",
            "RangeIndex: 148654 entries, 0 to 148653\n",
            "Data columns (total 13 columns):\n",
            " #   Column            Non-Null Count   Dtype  \n",
            "---  ------            --------------   -----  \n",
            " 0   Id                148654 non-null  int64  \n",
            " 1   EmployeeName      148654 non-null  object \n",
            " 2   JobTitle          148654 non-null  object \n",
            " 3   BasePay           148045 non-null  float64\n",
            " 4   OvertimePay       148650 non-null  float64\n",
            " 5   OtherPay          148650 non-null  float64\n",
            " 6   Benefits          112491 non-null  float64\n",
            " 7   TotalPay          148654 non-null  float64\n",
            " 8   TotalPayBenefits  148654 non-null  float64\n",
            " 9   Year              148654 non-null  int64  \n",
            " 10  Notes             0 non-null       float64\n",
            " 11  Agency            148654 non-null  object \n",
            " 12  Status            0 non-null       float64\n",
            "dtypes: float64(8), int64(2), object(3)\n",
            "memory usage: 14.7+ MB\n",
            "None\n"
          ]
        }
      ],
      "source": [
        "# first of all let's understand the data\n",
        "print(df.info())\n",
        "# we noticed that there is no data in notes and status columns so we can drop them\n",
        "df = df.drop([\"Notes\", \"Status\"], axis=1)"
      ]
    },
    {
      "cell_type": "code",
      "execution_count": 63,
      "metadata": {},
      "outputs": [
        {
          "name": "stdout",
          "output_type": "stream",
          "text": [
            "Id                  148654\n",
            "EmployeeName        110811\n",
            "JobTitle              2159\n",
            "BasePay             109489\n",
            "OvertimePay          65998\n",
            "OtherPay             83225\n",
            "Benefits             98465\n",
            "TotalPay            138486\n",
            "TotalPayBenefits    142098\n",
            "Year                     4\n",
            "Agency                   1\n",
            "dtype: int64\n"
          ]
        }
      ],
      "source": [
        "# what about unique values in each column ?\n",
        "print(df.nunique())\n",
        "# we can see that all data for the same agency so we don't need this column as well, because it will not add any value to our analysis\n",
        "df = df.drop([\"Agency\"], axis=1)"
      ]
    },
    {
      "cell_type": "code",
      "execution_count": 64,
      "metadata": {},
      "outputs": [
        {
          "name": "stdout",
          "output_type": "stream",
          "text": [
            "            Id  EmployeeName      JobTitle  BasePay  OvertimePay  OtherPay  \\\n",
            "148646  148647  Not provided  Not provided      NaN          NaN       NaN   \n",
            "148650  148651  Not provided  Not provided      NaN          NaN       NaN   \n",
            "148651  148652  Not provided  Not provided      NaN          NaN       NaN   \n",
            "148652  148653  Not provided  Not provided      NaN          NaN       NaN   \n",
            "\n",
            "        Benefits  TotalPay  TotalPayBenefits  Year  \n",
            "148646       NaN       0.0               0.0  2014  \n",
            "148650       NaN       0.0               0.0  2014  \n",
            "148651       NaN       0.0               0.0  2014  \n",
            "148652       NaN       0.0               0.0  2014  \n",
            "Empty DataFrame\n",
            "Columns: [Id, EmployeeName, JobTitle, BasePay, OvertimePay, OtherPay, Benefits, TotalPay, TotalPayBenefits, Year]\n",
            "Index: []\n"
          ]
        }
      ],
      "source": [
        "# check if there's duplicated rows\n",
        "print(df.loc[df[df.columns.drop(\"Id\")].duplicated(keep=False)])\n",
        "# We noticed that there are 4 duplicated rows, and it's empty rows so we can drop them\n",
        "df = df.drop(df.loc[df[df.columns.drop(\"Id\")].duplicated(keep=False)].index)\n",
        "print(df.loc[df[df.columns.drop(\"Id\")].duplicated(keep=False)])"
      ]
    },
    {
      "cell_type": "code",
      "execution_count": 65,
      "metadata": {},
      "outputs": [
        {
          "name": "stdout",
          "output_type": "stream",
          "text": [
            "<class 'pandas.core.frame.DataFrame'>\n",
            "Index: 148650 entries, 0 to 148653\n",
            "Data columns (total 10 columns):\n",
            " #   Column            Non-Null Count   Dtype  \n",
            "---  ------            --------------   -----  \n",
            " 0   Id                148650 non-null  int64  \n",
            " 1   EmployeeName      148650 non-null  object \n",
            " 2   JobTitle          148650 non-null  object \n",
            " 3   BasePay           148045 non-null  float64\n",
            " 4   OvertimePay       148650 non-null  float64\n",
            " 5   OtherPay          148650 non-null  float64\n",
            " 6   Benefits          112491 non-null  float64\n",
            " 7   TotalPay          148650 non-null  float64\n",
            " 8   TotalPayBenefits  148650 non-null  float64\n",
            " 9   Year              148650 non-null  int64  \n",
            "dtypes: float64(6), int64(2), object(2)\n",
            "memory usage: 12.5+ MB\n",
            "None\n"
          ]
        }
      ],
      "source": [
        "print(df.info())"
      ]
    },
    {
      "cell_type": "code",
      "execution_count": 66,
      "metadata": {},
      "outputs": [
        {
          "data": {
            "text/plain": [
              "Id                  0\n",
              "EmployeeName        0\n",
              "JobTitle            0\n",
              "BasePay             0\n",
              "OvertimePay         0\n",
              "OtherPay            0\n",
              "Benefits            0\n",
              "TotalPay            0\n",
              "TotalPayBenefits    0\n",
              "Year                0\n",
              "dtype: int64"
            ]
          },
          "execution_count": 66,
          "metadata": {},
          "output_type": "execute_result"
        }
      ],
      "source": [
        "# Handling missing values -> Base Pay & Benefits\n",
        "# drop rows with missing values using dropna() -> may the data is necessary and we can't discard it or large number of rows\n",
        "# fill missing values with a specific value using fillna() -> with what value?\n",
        "# mean: average -> we'll use it because it's the most common way to fill missing values\n",
        "\n",
        "df[\"BasePay\"].fillna(df[\"BasePay\"].mean(), inplace=True)\n",
        "df[\"Benefits\"].fillna(df[\"Benefits\"].mean(), inplace=True)\n",
        "\n",
        "df.isnull().sum()"
      ]
    },
    {
      "cell_type": "markdown",
      "metadata": {},
      "source": [
        "histograms or bar charts to visualize the distribution of salaries"
      ]
    },
    {
      "cell_type": "code",
      "execution_count": 67,
      "metadata": {},
      "outputs": [
        {
          "data": {
            "image/png": "[encoded data removed]",
            "text/plain": [
              "<Figure size 640x480 with 1 Axes>"
            ]
          },
          "metadata": {},
          "output_type": "display_data"
        }
      ],
      "source": [
        "plt.hist(df[\"TotalPay\"], bins=25, edgecolor=\"black\", color=\"green\")\n",
        "plt.title(\"Distribution of Salaries\")\n",
        "plt.xlabel(\"Frequency\")\n",
        "plt.ylabel(\"Total Pay\")\n",
        "plt.show()"
      ]
    },
    {
      "cell_type": "markdown",
      "metadata": {},
      "source": [
        "pie charts to represent the proportion of employees in different departments."
      ]
    },
    {
      "cell_type": "code",
      "execution_count": 68,
      "metadata": {},
      "outputs": [
        {
          "data": {
            "image/png": "[encoded data removed]",
            "text/plain": [
              "<Figure size 640x480 with 1 Axes>"
            ]
          },
          "metadata": {},
          "output_type": "display_data"
        }
      ],
      "source": [
        "job_title = (\n",
        "    df[\"JobTitle\"]\n",
        "    .loc[df[\"JobTitle\"].str.contains(r\"Dept|Department\", regex=True)]\n",
        "    .unique()\n",
        ")\n",
        "department = []\n",
        "for i in job_title:\n",
        "    match = re.search(r\"(\\w+)\\s+(Dept|Department)\", i)\n",
        "    if match:\n",
        "        department.append(match.group())\n",
        "department = list(set(department))\n",
        "department.remove(\"of Dept\")\n",
        "\n",
        "department_count = []\n",
        "for i in department:\n",
        "    department_count.append(df[\"JobTitle\"].loc[df[\"JobTitle\"].str.contains(i)].count())\n",
        "department_count[department.index(\"Fire Dept\")] += department_count[\n",
        "    department.index(\"Fire Department\")\n",
        "]\n",
        "del department_count[department.index(\"Fire Dept\")]\n",
        "department.remove(\"Fire Dept\")\n",
        "\n",
        "plt.pie(department_count, labels=department, autopct=\"%.2f%%\")\n",
        "\n",
        "plt.show()"
      ]
    },
    {
      "cell_type": "markdown",
      "metadata": {},
      "source": [
        "Group the data by one or more columns and calculate summary statistics for each group, and compare the average salaries across different groups."
      ]
    },
    {
      "cell_type": "code",
      "execution_count": 69,
      "metadata": {},
      "outputs": [
        {
          "name": "stdout",
          "output_type": "stream",
          "text": [
            "The highest salary job: ACCOUNT CLERK with average salary: 44035.66433734941\n"
          ]
        },
        {
          "data": {
            "text/html": [
              "<div>\n",
              "<style scoped>\n",
              "    .dataframe tbody tr th:only-of-type {\n",
              "        vertical-align: middle;\n",
              "    }\n",
              "\n",
              "    .dataframe tbody tr th {\n",
              "        vertical-align: top;\n",
              "    }\n",
              "\n",
              "    .dataframe thead th {\n",
              "        text-align: right;\n",
              "    }\n",
              "</style>\n",
              "<table border=\"1\" class=\"dataframe\">\n",
              "  <thead>\n",
              "    <tr style=\"text-align: right;\">\n",
              "      <th></th>\n",
              "      <th>mean</th>\n",
              "      <th>std</th>\n",
              "      <th>count</th>\n",
              "    </tr>\n",
              "    <tr>\n",
              "      <th>JobTitle</th>\n",
              "      <th></th>\n",
              "      <th></th>\n",
              "      <th></th>\n",
              "    </tr>\n",
              "  </thead>\n",
              "  <tbody>\n",
              "    <tr>\n",
              "      <th>ACCOUNT CLERK</th>\n",
              "      <td>44035.664337</td>\n",
              "      <td>13170.742908</td>\n",
              "      <td>83.0</td>\n",
              "    </tr>\n",
              "    <tr>\n",
              "      <th>ACCOUNTANT</th>\n",
              "      <td>47429.268000</td>\n",
              "      <td>27137.331315</td>\n",
              "      <td>5.0</td>\n",
              "    </tr>\n",
              "    <tr>\n",
              "      <th>ACCOUNTANT INTERN</th>\n",
              "      <td>29031.742917</td>\n",
              "      <td>20711.322649</td>\n",
              "      <td>48.0</td>\n",
              "    </tr>\n",
              "    <tr>\n",
              "      <th>ACPO,JuvP, Juv Prob (SFERS)</th>\n",
              "      <td>62290.780000</td>\n",
              "      <td>NaN</td>\n",
              "      <td>1.0</td>\n",
              "    </tr>\n",
              "    <tr>\n",
              "      <th>ACUPUNCTURIST</th>\n",
              "      <td>67594.400000</td>\n",
              "      <td>NaN</td>\n",
              "      <td>1.0</td>\n",
              "    </tr>\n",
              "    <tr>\n",
              "      <th>...</th>\n",
              "      <td>...</td>\n",
              "      <td>...</td>\n",
              "      <td>...</td>\n",
              "    </tr>\n",
              "    <tr>\n",
              "      <th>X-RAY LABORATORY AIDE</th>\n",
              "      <td>52705.880385</td>\n",
              "      <td>19760.943417</td>\n",
              "      <td>26.0</td>\n",
              "    </tr>\n",
              "    <tr>\n",
              "      <th>X-Ray Laboratory Aide</th>\n",
              "      <td>50823.942700</td>\n",
              "      <td>24170.083004</td>\n",
              "      <td>100.0</td>\n",
              "    </tr>\n",
              "    <tr>\n",
              "      <th>YOUTH COMMISSION ADVISOR, BOARD OF SUPERVISORS</th>\n",
              "      <td>53632.870000</td>\n",
              "      <td>NaN</td>\n",
              "      <td>1.0</td>\n",
              "    </tr>\n",
              "    <tr>\n",
              "      <th>Youth Comm Advisor</th>\n",
              "      <td>41414.307500</td>\n",
              "      <td>17311.066571</td>\n",
              "      <td>4.0</td>\n",
              "    </tr>\n",
              "    <tr>\n",
              "      <th>ZOO CURATOR</th>\n",
              "      <td>66686.560000</td>\n",
              "      <td>NaN</td>\n",
              "      <td>1.0</td>\n",
              "    </tr>\n",
              "  </tbody>\n",
              "</table>\n",
              "<p>2158 rows × 3 columns</p>\n",
              "</div>"
            ],
            "text/plain": [
              "                                                        mean           std  \\\n",
              "JobTitle                                                                     \n",
              "ACCOUNT CLERK                                   44035.664337  13170.742908   \n",
              "ACCOUNTANT                                      47429.268000  27137.331315   \n",
              "ACCOUNTANT INTERN                               29031.742917  20711.322649   \n",
              "ACPO,JuvP, Juv Prob (SFERS)                     62290.780000           NaN   \n",
              "ACUPUNCTURIST                                   67594.400000           NaN   \n",
              "...                                                      ...           ...   \n",
              "X-RAY LABORATORY AIDE                           52705.880385  19760.943417   \n",
              "X-Ray Laboratory Aide                           50823.942700  24170.083004   \n",
              "YOUTH COMMISSION ADVISOR, BOARD OF SUPERVISORS  53632.870000           NaN   \n",
              "Youth Comm Advisor                              41414.307500  17311.066571   \n",
              "ZOO CURATOR                                     66686.560000           NaN   \n",
              "\n",
              "                                                count  \n",
              "JobTitle                                               \n",
              "ACCOUNT CLERK                                    83.0  \n",
              "ACCOUNTANT                                        5.0  \n",
              "ACCOUNTANT INTERN                                48.0  \n",
              "ACPO,JuvP, Juv Prob (SFERS)                       1.0  \n",
              "ACUPUNCTURIST                                     1.0  \n",
              "...                                               ...  \n",
              "X-RAY LABORATORY AIDE                            26.0  \n",
              "X-Ray Laboratory Aide                           100.0  \n",
              "YOUTH COMMISSION ADVISOR, BOARD OF SUPERVISORS    1.0  \n",
              "Youth Comm Advisor                                4.0  \n",
              "ZOO CURATOR                                       1.0  \n",
              "\n",
              "[2158 rows x 3 columns]"
            ]
          },
          "execution_count": 69,
          "metadata": {},
          "output_type": "execute_result"
        }
      ],
      "source": [
        "data = df.groupby([\"JobTitle\"])[\"TotalPay\"].describe()[[\"mean\", \"std\", \"count\"]]\n",
        "data.sort_values(\"mean\", ascending=False)\n",
        "print(\n",
        "    \"The highest salary job: \"\n",
        "    + str(data.iloc[0].name)\n",
        "    + \" with average salary: \"\n",
        "    + str(data.iloc[0][\"mean\"])\n",
        ")\n",
        "data"
      ]
    },
    {
      "cell_type": "code",
      "execution_count": 70,
      "metadata": {},
      "outputs": [
        {
          "name": "stdout",
          "output_type": "stream",
          "text": [
            "Correlation of TotalPay to BasePay 0.9505423082497897\n"
          ]
        }
      ],
      "source": [
        "correlation = df['TotalPay'].corr(df['BasePay'])\n",
        "print(\"Correlation of TotalPay to BasePay\",correlation)\n",
        "# There's a strong positive correlation between TotalPay and BasePay which means that the more the BasePay the more the TotalPay (TotalPay is sum(BasePay, OvertimePay, OtherPay)"
      ]
    },
    {
      "cell_type": "code",
      "execution_count": 71,
      "metadata": {},
      "outputs": [
        {
          "data": {
            "image/png": "[encoded data removed]",
            "text/plain": [
              "<Figure size 640x480 with 1 Axes>"
            ]
          },
          "metadata": {},
          "output_type": "display_data"
        }
      ],
      "source": [
        "plt.scatter(df[\"BasePay\"],df[\"TotalPay\"])\n",
        "plt.xlabel(\"Base Pay\")\n",
        "plt.ylabel(\"Total Pay\")\n",
        "plt.show()"
      ]
    },
    {
      "cell_type": "markdown",
      "metadata": {
        "id": "HE9jbRjcUyoX"
      },
      "source": [
        "# Good Luck!"
      ]
    }
  ],
  "metadata": {
    "colab": {
      "provenance": []
    },
    "kernelspec": {
      "display_name": "Python 3",
      "name": "python3"
    },
    "language_info": {
      "codemirror_mode": {
        "name": "ipython",
        "version": 3
      },
      "file_extension": ".py",
      "mimetype": "text/x-python",
      "name": "python",
      "nbconvert_exporter": "python",
      "pygments_lexer": "ipython3",
      "version": "3.12.0"
    }
  },
  "nbformat": 4,
  "nbformat_minor": 0
}
